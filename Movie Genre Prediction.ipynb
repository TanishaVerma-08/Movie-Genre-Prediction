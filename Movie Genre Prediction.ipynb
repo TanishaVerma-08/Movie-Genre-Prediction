{
  "cells": [
    {
      "cell_type": "markdown",
      "metadata": {
        "id": "jDNBCLJi_gO2"
      },
      "source": [
        "# Movie Genre Prediction\n",
        "\n",
        "\n",
        "> Presented by: Tanisha Verma\n",
        "\n",
        "\n",
        "Aim: Predict the genre of a movie based on its plot summary and other features."
      ]
    },
    {
      "cell_type": "markdown",
      "metadata": {
        "id": "BdiUaN-0Eg_r"
      },
      "source": [
        "Importing Libraries"
      ]
    },
    {
      "cell_type": "code",
      "execution_count": 30,
      "metadata": {
        "id": "2Tof3MKDAn1e"
      },
      "outputs": [],
      "source": [
        "import numpy as np\n",
        "import pandas as pd\n",
        "\n",
        "from sklearn.preprocessing import MultiLabelBinarizer\n",
        "from sklearn.multioutput import MultiOutputClassifier\n",
        "from sklearn.naive_bayes import MultinomialNB\n",
        "from sklearn.feature_extraction.text import CountVectorizer\n",
        "from sklearn.metrics import accuracy_score, precision_score, recall_score, f1_score\n",
        "from sklearn.model_selection import train_test_split\n",
        "from sklearn.preprocessing import StandardScaler\n",
        "from sklearn.model_selection import cross_val_score\n",
        "from sklearn.ensemble import RandomForestClassifier\n",
        "\n",
        "from tqdm import tqdm"
      ]
    },
    {
      "cell_type": "markdown",
      "metadata": {
        "id": "KoYP29beGskU"
      },
      "source": [
        "List of Genre from training datase"
      ]
    },
    {
      "cell_type": "code",
      "execution_count": 31,
      "metadata": {
        "id": "04L-ZS7iGkC5"
      },
      "outputs": [],
      "source": [
        "Genre = ['action', 'adult', 'adventure', 'animation', 'biography', 'comedy', 'crime', 'documentary', 'family', 'fantasy', 'game-show', 'history', 'horror', 'music', 'musical', 'mystery', 'news', 'reality-tv', 'romance', 'sci-fi', 'short', 'sport', 'talk-show', 'thriller', 'war', 'western' ]\n",
        "Unknown_Genre = 'Unknown'"
      ]
    },
    {
      "cell_type": "markdown",
      "metadata": {
        "id": "tpzQiLIMHgWV"
      },
      "source": [
        "Load Training Dataset"
      ]
    },
    {
      "cell_type": "code",
      "execution_count": 32,
      "metadata": {
        "colab": {
          "base_uri": "https://localhost:8080/"
        },
        "id": "BkvpADNQGqrl",
        "outputId": "70c4e6f7-3a78-43ab-d127-3e138765600f"
      },
      "outputs": [
        {
          "name": "stderr",
          "output_type": "stream",
          "text": [
            "Loading Train Data: 100%|██████████| 50/50 [00:02<00:00, 19.32it/s]\n"
          ]
        }
      ],
      "source": [
        "try:\n",
        "    with tqdm(total=50, desc=\"Loading Train Data\") as pbar:\n",
        "        train_data = pd.read_csv('/content/drive/MyDrive/DataSets/Movie Genre Prediction/train_data (1).txt', sep=':::', header=None, names=['SerialNumber', 'MOVIE_NAME', 'GENRE', 'MOVIE_PLOT'], engine='python')\n",
        "        pbar.update(50)\n",
        "except Exception as e:\n",
        "    print(f\"Error loading train_data: {e}\")\n",
        "    raise"
      ]
    },
    {
      "cell_type": "markdown",
      "metadata": {
        "id": "P3EZ6SHcMQhX"
      },
      "source": [
        "PreProcessing training data"
      ]
    },
    {
      "cell_type": "code",
      "execution_count": 33,
      "metadata": {
        "id": "ge5dXU8fHnFQ"
      },
      "outputs": [],
      "source": [
        "X_train = train_data['MOVIE_PLOT'].astype(str).apply(lambda doc: doc.lower())\n",
        "genre_labels = [genre.split(', ') for genre in train_data['GENRE']]\n",
        "mlb = MultiLabelBinarizer()\n",
        "y_train = mlb.fit_transform(genre_labels)"
      ]
    },
    {
      "cell_type": "code",
      "execution_count": 34,
      "metadata": {
        "id": "xBqwxTk6MTZi"
      },
      "outputs": [],
      "source": [
        "count_vectorizer = CountVectorizer(max_features = 5000)"
      ]
    },
    {
      "cell_type": "code",
      "execution_count": 35,
      "metadata": {
        "colab": {
          "base_uri": "https://localhost:8080/"
        },
        "id": "C2AqFnCLMi5O",
        "outputId": "a6065be0-5e30-4e5a-807d-3e30701660cd"
      },
      "outputs": [
        {
          "name": "stderr",
          "output_type": "stream",
          "text": [
            "Vectorizing Training Data: 100%|██████████| 50/50 [00:05<00:00,  9.20it/s]\n"
          ]
        }
      ],
      "source": [
        "with tqdm(total=50, desc=\"Vectorizing Training Data\") as pbar:\n",
        "    X_train_count = count_vectorizer.fit_transform(X_train)\n",
        "    pbar.update(50)"
      ]
    },
    {
      "cell_type": "code",
      "execution_count": 36,
      "metadata": {
        "colab": {
          "base_uri": "https://localhost:8080/"
        },
        "id": "LeteJdIiMq7u",
        "outputId": "284d955a-149c-4e0b-f399-5f7368c13bcc"
      },
      "outputs": [
        {
          "name": "stderr",
          "output_type": "stream",
          "text": [
            "Training Model: 100%|██████████| 50/50 [00:00<00:00, 76.87it/s]\n"
          ]
        }
      ],
      "source": [
        "with tqdm(total=50, desc=\"Training Model\") as pbar:\n",
        "    naive_bayes = MultinomialNB()\n",
        "    multi_output_classifier = MultiOutputClassifier(naive_bayes)\n",
        "    multi_output_classifier.fit(X_train_count, y_train)\n",
        "    pbar.update(50)"
      ]
    },
    {
      "cell_type": "markdown",
      "metadata": {
        "id": "bDJmeH_UM05E"
      },
      "source": [
        "Load Test Dataset"
      ]
    },
    {
      "cell_type": "code",
      "execution_count": 37,
      "metadata": {
        "colab": {
          "base_uri": "https://localhost:8080/"
        },
        "id": "l0VGTiLJMyM1",
        "outputId": "c78ca8d0-ace6-4fb5-8f2b-41d319f3d3d1"
      },
      "outputs": [
        {
          "name": "stderr",
          "output_type": "stream",
          "text": [
            "Loading Test Data: 100%|██████████| 50/50 [00:00<00:00, 57.20it/s]\n"
          ]
        }
      ],
      "source": [
        "try:\n",
        "    with tqdm(total=50, desc=\"Loading Test Data\") as pbar:\n",
        "        test_data = pd.read_csv('/content/drive/MyDrive/DataSets/Movie Genre Prediction/test_data (1).txt', sep=':::', header=None, names=['SerialNumber', 'MOVIE_NAME', 'MOVIE_PLOT'], engine='python')\n",
        "        pbar.update(50)\n",
        "except Exception as e:\n",
        "    print(f\"Error loading test_data: {e}\")\n",
        "    raise"
      ]
    },
    {
      "cell_type": "markdown",
      "metadata": {
        "id": "3wPOT3RDNIdt"
      },
      "source": [
        "PreProcessing Test Dataset"
      ]
    },
    {
      "cell_type": "code",
      "execution_count": 38,
      "metadata": {
        "id": "6UV63IjlM7at"
      },
      "outputs": [],
      "source": [
        "X_test = test_data['MOVIE_PLOT'].astype(str).apply(lambda doc: doc.lower())"
      ]
    },
    {
      "cell_type": "markdown",
      "metadata": {
        "id": "hdV2LbSDNSSY"
      },
      "source": [
        "Applying Transforming"
      ]
    },
    {
      "cell_type": "code",
      "execution_count": 39,
      "metadata": {
        "colab": {
          "base_uri": "https://localhost:8080/"
        },
        "id": "wZSYjJuwNO8X",
        "outputId": "7cb318c3-537a-493b-f833-ab6dd0f3c754"
      },
      "outputs": [
        {
          "name": "stderr",
          "output_type": "stream",
          "text": [
            "Vectorizing Test Data: 100%|██████████| 50/50 [00:00<00:00, 80.60it/s]\n"
          ]
        }
      ],
      "source": [
        "with tqdm(total=50, desc=\"Vectorizing Test Data\") as pbar:\n",
        "    X_test_count = count_vectorizer.transform(X_test)\n",
        "    pbar.update(50)"
      ]
    },
    {
      "cell_type": "markdown",
      "metadata": {
        "id": "OMBL4CK1NeCX"
      },
      "source": [
        "Predict Genre"
      ]
    },
    {
      "cell_type": "code",
      "execution_count": 40,
      "metadata": {
        "colab": {
          "base_uri": "https://localhost:8080/"
        },
        "id": "Ialiw98ONa3x",
        "outputId": "c7a7c1c6-367e-4d9b-a29a-ebd910220503"
      },
      "outputs": [
        {
          "name": "stderr",
          "output_type": "stream",
          "text": [
            "Predicting on Test Data: 100%|██████████| 50/50 [00:00<00:00, 820.30it/s]\n"
          ]
        }
      ],
      "source": [
        "with tqdm(total=50, desc=\"Predicting on Test Data\") as pbar:\n",
        "    y_pred = multi_output_classifier.predict(X_test_count)\n",
        "    pbar.update(50)"
      ]
    },
    {
      "cell_type": "markdown",
      "metadata": {
        "id": "P8gVCZFGNn_j"
      },
      "source": [
        "Create DataFrame for Test data"
      ]
    },
    {
      "cell_type": "code",
      "execution_count": 41,
      "metadata": {
        "id": "wjK6qZxHNfyW"
      },
      "outputs": [],
      "source": [
        "test_movie_names = test_data['MOVIE_NAME']\n",
        "predicted_genres = mlb.inverse_transform(y_pred)\n",
        "test_results = pd.DataFrame({'MOVIE_NAME': test_movie_names, 'PREDICTED_GENRES': predicted_genres})\n",
        "test_results['PREDICTED_GENRES'] = test_results['PREDICTED_GENRES'].apply(lambda genres: [Unknown_Genre] if len(genres) == 0 else genres)"
      ]
    },
    {
      "cell_type": "markdown",
      "metadata": {
        "id": "JxCtYpLUOUWz"
      },
      "source": [
        "Writing results to an output text file"
      ]
    },
    {
      "cell_type": "code",
      "execution_count": 42,
      "metadata": {
        "id": "Pie6nyiSN2fC"
      },
      "outputs": [],
      "source": [
        "with open(\"/content/drive/MyDrive/DataSets/Movie Genre Prediction/model_evaluation.txt\", \"w\", encoding=\"utf-8\") as output_file:\n",
        "    for _, row in test_results.iterrows():\n",
        "        movie_name = row['MOVIE_NAME']\n",
        "        genre_str = ', '.join(row['PREDICTED_GENRES'])\n",
        "        output_file.write(f\"{movie_name} ::: {genre_str}\\n\")"
      ]
    },
    {
      "cell_type": "code",
      "execution_count": 43,
      "metadata": {
        "id": "-7Hxe8Q3OSWP"
      },
      "outputs": [],
      "source": [
        "y_train_pred = multi_output_classifier.predict(X_train_count)"
      ]
    },
    {
      "cell_type": "markdown",
      "metadata": {
        "id": "qfFQ2PDzOhDg"
      },
      "source": [
        "Calculate Evaluation Metrices"
      ]
    },
    {
      "cell_type": "code",
      "execution_count": 44,
      "metadata": {
        "id": "788mbTwDOdr9"
      },
      "outputs": [],
      "source": [
        "accuracy = accuracy_score(y_train, y_train_pred)\n",
        "precision = precision_score(y_train, y_train_pred, average='micro')\n",
        "recall = recall_score(y_train, y_train_pred, average='micro')\n",
        "f1 = f1_score(y_train, y_train_pred, average='micro')"
      ]
    },
    {
      "cell_type": "markdown",
      "metadata": {
        "id": "VZumI3BeOns7"
      },
      "source": [
        "Append evaluation metrics to output file\n"
      ]
    },
    {
      "cell_type": "code",
      "execution_count": 45,
      "metadata": {
        "id": "_-LMprx1OlBl"
      },
      "outputs": [],
      "source": [
        "with open(\"model_evaluation.txt\", \"a\", encoding=\"utf-8\") as output_file:\n",
        "    output_file.write(\"\\n\\nModel Evaluation Metrics:\\n\")\n",
        "    output_file.write(f\"Accuracy: {accuracy * 100:.2f}%\\n\")\n",
        "    output_file.write(f\"Precision: {precision:.2f}\\n\")\n",
        "    output_file.write(f\"Recall: {recall:.2f}\\n\")\n",
        "    output_file.write(f\"F1-score: {f1:.2f}\\n\")"
      ]
    },
    {
      "cell_type": "code",
      "execution_count": 46,
      "metadata": {
        "colab": {
          "base_uri": "https://localhost:8080/"
        },
        "id": "FnOVC-dSO1TT",
        "outputId": "3864e046-c6c4-43c0-ffcd-58dc2c46e016"
      },
      "outputs": [
        {
          "name": "stdout",
          "output_type": "stream",
          "text": [
            "Model evaluation results and metrics have been saved to 'model_evaluation.txt'.\n"
          ]
        }
      ],
      "source": [
        "print(\"Model evaluation results and metrics have been saved to 'model_evaluation.txt'.\")"
      ]
    }
  ],
  "metadata": {
    "colab": {
      "provenance": []
    },
    "kernelspec": {
      "display_name": "Python 3",
      "name": "python3"
    },
    "language_info": {
      "name": "python"
    }
  },
  "nbformat": 4,
  "nbformat_minor": 0
}
